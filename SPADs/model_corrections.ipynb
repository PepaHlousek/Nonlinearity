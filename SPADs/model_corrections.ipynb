{
 "cells": [
  {
   "cell_type": "markdown",
   "id": "8eeecd09",
   "metadata": {},
   "source": [
    "# SPAD nonlinearity after the data are corrected for dead time and background"
   ]
  },
  {
   "cell_type": "markdown",
   "id": "38d03bde",
   "metadata": {},
   "source": [
    "## Definitions"
   ]
  },
  {
   "cell_type": "code",
   "execution_count": 1,
   "id": "b40e6745",
   "metadata": {},
   "outputs": [
    {
     "name": "stdout",
     "output_type": "stream",
     "text": [
      "python: 3.10.4 (main, Mar 31 2022, 08:41:55) [GCC 7.5.0]\n",
      "numpy: 1.21.5\n",
      "scipy: 1.7.3\n",
      "matplotlib: 3.5.1\n",
      "sympy: 1.10.1\n",
      "lmfit: 1.0.3\n"
     ]
    }
   ],
   "source": [
    "import sys\n",
    "import os\n",
    "import numpy as np\n",
    "import scipy\n",
    "import sympy as sp\n",
    "from sympy.parsing.mathematica import mathematica\n",
    "from sympy.stats import Normal, density\n",
    "from scipy.interpolate import interp1d\n",
    "from scipy.special import erf, erfinv\n",
    "from scipy.stats import norm, ks_1samp\n",
    "from numpy.fft import fft, ifft, fftshift, ifftshift\n",
    "import matplotlib.pyplot as plt\n",
    "import matplotlib.patches as patches\n",
    "from matplotlib.ticker import FuncFormatter\n",
    "from matplotlib.colors import LogNorm\n",
    "from matplotlib.cm import ScalarMappable, get_cmap\n",
    "from lmfit import Model\n",
    "from lmfit.parameter import Parameters\n",
    "from functools import partial\n",
    "from importlib.metadata import version\n",
    "\n",
    "%matplotlib inline\n",
    "\n",
    "import types\n",
    "def imports():\n",
    "    for name, val in globals().items():\n",
    "        if isinstance(val, types.ModuleType):\n",
    "            yield val.__name__\n",
    "pkgs = ['numpy', 'scipy', 'matplotlib', 'sympy', 'lmfit']\n",
    "print(f'python: {sys.version}')\n",
    "for p in pkgs:\n",
    "    print(p+': '+sys.modules[p].__version__)"
   ]
  },
  {
   "cell_type": "markdown",
   "id": "29759798",
   "metadata": {},
   "source": [
    "The time unit here is 1 μs to cover count rates and dead time well within floating point precision. The graphs show counts per second."
   ]
  },
  {
   "cell_type": "code",
   "execution_count": 2,
   "id": "4b571581",
   "metadata": {},
   "outputs": [],
   "source": [
    "meas_time = 20. # seconds\n",
    "reps = 30"
   ]
  },
  {
   "cell_type": "code",
   "execution_count": 3,
   "id": "98826b43",
   "metadata": {},
   "outputs": [],
   "source": [
    "def RateNP(mu,dt):\n",
    "    return 1./(1/mu + dt)\n",
    "\n",
    "def InvRateNP(r,dt):\n",
    "    return 1./(1/r-dt)\n",
    "\n",
    "def NonlinearityModel(f,mu,dc,*pars):\n",
    "    ra  = f(mu/2+dc,*pars)\n",
    "    rab = f(mu+dc,*pars)\n",
    "    return (rab,(2*ra/rab)-1.)\n",
    "\n",
    "def FitFuncNP(r,dc,dt):\n",
    "    mu = InvRateNP(r,dt)\n",
    "    return NonlinearityModel(RateNP,mu-dc,dc,dt)[1]\n",
    "\n",
    "def CorrectRates(r,dc,dt):\n",
    "    return (InvRateNP(r,dt) - dc)"
   ]
  },
  {
   "cell_type": "markdown",
   "id": "bd28e245",
   "metadata": {},
   "source": [
    "Gaussian PDF with mean $m$ and standard deviation $s$"
   ]
  },
  {
   "cell_type": "code",
   "execution_count": 4,
   "id": "e9f3029c",
   "metadata": {},
   "outputs": [],
   "source": [
    "def Gauss_pdf(x,m,s):\n",
    "    return 1/sp.sqrt(2*sp.pi*s**2)*sp.exp(-(x-m)**2/(2*s**2))"
   ]
  },
  {
   "cell_type": "markdown",
   "id": "0e018a44",
   "metadata": {},
   "source": [
    "## Data import and fitting"
   ]
  },
  {
   "cell_type": "code",
   "execution_count": 5,
   "id": "5f8586fa",
   "metadata": {},
   "outputs": [],
   "source": [
    "files = \\\n",
    "['AQRH.txt',\n",
    " 'AQ4C.txt',\n",
    " 'COUNT.txt',\n",
    " 'ID120.txt']\n",
    "names = list(map(os.path.basename,files))"
   ]
  },
  {
   "cell_type": "code",
   "execution_count": 6,
   "id": "56483401",
   "metadata": {},
   "outputs": [],
   "source": [
    "dat = [np.genfromtxt(f, encoding='utf-8-sig') for f in files]\n",
    "for i,d in enumerate(dat):\n",
    "    dat[i] = np.array(np.split(d, len(d)/reps))"
   ]
  },
  {
   "cell_type": "code",
   "execution_count": 7,
   "id": "167285d4",
   "metadata": {},
   "outputs": [],
   "source": [
    "delta_raw = [(d[:,:,0]+d[:,:,1])/d[:,:,2]-1. for d in dat];\n",
    "\n",
    "rate_means = [np.mean(d[:,:,2]/meas_time, axis=1)*1e-6 for d in dat]\n",
    "delta_means = [np.mean(delta, axis=1) for delta in delta_raw]\n",
    "delta_errs = [np.std(delta, axis=1, ddof=1)/np.sqrt(reps) for delta in delta_raw]"
   ]
  },
  {
   "cell_type": "markdown",
   "id": "79917869",
   "metadata": {},
   "source": [
    "### Fit the values $R_0$ and $\\tau$"
   ]
  },
  {
   "cell_type": "code",
   "execution_count": 8,
   "id": "0da0dad0",
   "metadata": {},
   "outputs": [],
   "source": [
    "modelNP = Model(FitFuncNP)\n",
    "\n",
    "paramsNP = [Parameters() for i in range(len(rate_means))]\n",
    "\n",
    "for pNP, rat in zip(paramsNP, rate_means):\n",
    "    pNP.add('dc', value=1e-4, min=0., max=np.inf)\n",
    "    pNP.add('dt', value=0.02, min=0., max=1./np.max(rat))\n",
    "\n",
    "resultsNP = [modelNP.fit(d, r=r, params=p, weights=1./ye)\n",
    "             for d,r,ye,p in zip(delta_means,rate_means,delta_errs,paramsNP)]"
   ]
  },
  {
   "cell_type": "code",
   "execution_count": 9,
   "id": "78cde5b6",
   "metadata": {},
   "outputs": [],
   "source": [
    "dc_fit = [r.best_values['dc'] for r in resultsNP]\n",
    "dt_fit = [r.best_values['dt'] for r in resultsNP]"
   ]
  },
  {
   "cell_type": "markdown",
   "id": "d5277b43",
   "metadata": {},
   "source": [
    "## Model of the corrected nonlinearity"
   ]
  },
  {
   "cell_type": "markdown",
   "id": "fa1e18b6",
   "metadata": {},
   "source": [
    "Symbolic variables:\n",
    "* $\\Phi$ – incident rate\n",
    "* $R_0$ – background rate (dark counts)\n",
    "* $T$ – measurement time\n",
    "* $\\delta$ — shifted nonlinearity (see below)"
   ]
  },
  {
   "cell_type": "code",
   "execution_count": 10,
   "id": "764cb31c",
   "metadata": {},
   "outputs": [],
   "source": [
    "s_f, s_dc, s_T = sp.symbols('\\Phi R_0 T', positive=True)\n",
    "s_d, s_r = sp.symbols('\\delta r', real=True)"
   ]
  },
  {
   "cell_type": "markdown",
   "id": "d451b077",
   "metadata": {},
   "source": [
    "### Low rates"
   ]
  },
  {
   "cell_type": "markdown",
   "id": "c22e1d54",
   "metadata": {},
   "source": [
    "For incident rates $\\Phi \\ll 1/\\tau$, we can assume that $R^\\mathrm{det} \\approx \\Phi + R_0$. For practical calculations, we also shift the nonlinearity:\n",
    "\\begin{align}\n",
    "\\delta &= \\frac{\\Phi_\\mathrm{A} + \\Phi_\\mathrm{B}}{\\Phi_\\mathrm{AB}}, \\\\\n",
    "\\Delta^\\mathrm{corr} &= \\delta - 1.\n",
    "\\end{align}\n",
    "Now, we need to calculate the distribution of $\\delta$. We assume that $T$ is long enough for the accumulated counts $(R^\\mathrm{det}T)$ to be approximately normally distributed. To estimate $\\Phi$ we work with corrected values $R^\\mathrm{corr} = R^\\mathrm{det} - R_0$, where $R^\\mathrm{det} \\sim \\mathcal{N}(\\Phi + R_0, (\\Phi + R_0)/T)$. Then, the measured values of the corrected rates are also normal, and assuming a balanced splitting of an incident rate $\\Phi$,\n",
    "\\begin{align}\n",
    "R^\\mathrm{corr}_\\mathrm{AB} &\\sim \\mathcal{N}(\\Phi, (\\Phi+R_0)/T), \\\\\n",
    "R^\\mathrm{corr}_\\mathrm{A,B} &\\sim \\mathcal{N}(\\Phi/2, ((\\Phi/2) + R_0)/T), \\\\\n",
    "R^\\mathrm{corr}_\\mathrm{A} + R^\\mathrm{corr}_\\mathrm{B} &\\sim \\mathcal{N}(\\Phi, (\\Phi + 2 R_0)/T).\n",
    "\\end{align}\n",
    "Let us denote the PDF of a normal variable with mean $\\mu$ and variance $\\sigma^2$ as\n",
    "$$\n",
    "p_\\mathcal{N}[\\mu,\\sigma^2](x) = \\frac{1}{\\sqrt{2\\pi\\sigma^2}}\\exp\\left( -\\frac{(x-\\mu)^2}{2\\sigma^2} \\right).\n",
    "$$\n",
    "Let us use the PDF transformation of two independent random variables to calculate the result,\n",
    "$$\n",
    "p(\\delta) = \\int_{-\\infty}^\\infty p_\\mathcal{N}[\\Phi, (\\Phi + 2 R_0)/T](\\delta \\times r) \\times p_\\mathcal{N}[\\Phi, (\\Phi + R_0)/T](r) \\times |r| \\mathrm{d}r.\n",
    "$$"
   ]
  },
  {
   "cell_type": "code",
   "execution_count": 11,
   "id": "9202e286",
   "metadata": {},
   "outputs": [
    {
     "data": {
      "text/latex": [
       "$\\displaystyle \\frac{\\sqrt{2} \\left(\\sqrt{\\pi} \\sqrt{T} \\Phi \\left(R_{0} \\delta + 2 R_{0} + \\Phi \\delta + \\Phi\\right) e^{\\frac{T \\Phi^{2} \\left(R_{0} \\delta + 2 R_{0} + \\Phi \\delta + \\Phi\\right)^{2}}{2 \\left(R_{0} + \\Phi\\right) \\left(2 R_{0} + \\Phi\\right) \\left(R_{0} \\delta^{2} + 2 R_{0} + \\Phi \\delta^{2} + \\Phi\\right)}} \\operatorname{erf}{\\left(\\frac{\\sqrt{2} \\sqrt{T} \\Phi \\left(R_{0} \\delta + 2 R_{0} + \\Phi \\delta + \\Phi\\right)}{2 \\sqrt{2 R_{0}^{3} \\delta^{2} + 4 R_{0}^{3} + 5 R_{0}^{2} \\Phi \\delta^{2} + 8 R_{0}^{2} \\Phi + 4 R_{0} \\Phi^{2} \\delta^{2} + 5 R_{0} \\Phi^{2} + \\Phi^{3} \\delta^{2} + \\Phi^{3}}} \\right)} + \\sqrt{2} \\sqrt{2 R_{0}^{3} \\delta^{2} + 4 R_{0}^{3} + 5 R_{0}^{2} \\Phi \\delta^{2} + 8 R_{0}^{2} \\Phi + 4 R_{0} \\Phi^{2} \\delta^{2} + 5 R_{0} \\Phi^{2} + \\Phi^{3} \\delta^{2} + \\Phi^{3}}\\right) e^{- \\frac{T \\Phi^{2} \\cdot \\left(3 R_{0} + 2 \\Phi\\right)}{2 \\left(R_{0} + \\Phi\\right) \\left(2 R_{0} + \\Phi\\right)}}}{2 \\pi \\left(R_{0} \\delta^{2} + 2 R_{0} + \\Phi \\delta^{2} + \\Phi\\right)^{\\frac{3}{2}}}$"
      ],
      "text/plain": [
       "sqrt(2)*(sqrt(pi)*sqrt(T)*\\Phi*(R_0*\\delta + 2*R_0 + \\Phi*\\delta + \\Phi)*exp(T*\\Phi**2*(R_0*\\delta + 2*R_0 + \\Phi*\\delta + \\Phi)**2/(2*(R_0 + \\Phi)*(2*R_0 + \\Phi)*(R_0*\\delta**2 + 2*R_0 + \\Phi*\\delta**2 + \\Phi)))*erf(sqrt(2)*sqrt(T)*\\Phi*(R_0*\\delta + 2*R_0 + \\Phi*\\delta + \\Phi)/(2*sqrt(2*R_0**3*\\delta**2 + 4*R_0**3 + 5*R_0**2*\\Phi*\\delta**2 + 8*R_0**2*\\Phi + 4*R_0*\\Phi**2*\\delta**2 + 5*R_0*\\Phi**2 + \\Phi**3*\\delta**2 + \\Phi**3))) + sqrt(2)*sqrt(2*R_0**3*\\delta**2 + 4*R_0**3 + 5*R_0**2*\\Phi*\\delta**2 + 8*R_0**2*\\Phi + 4*R_0*\\Phi**2*\\delta**2 + 5*R_0*\\Phi**2 + \\Phi**3*\\delta**2 + \\Phi**3))*exp(-T*\\Phi**2*(3*R_0 + 2*\\Phi)/(2*(R_0 + \\Phi)*(2*R_0 + \\Phi)))/(2*pi*(R_0*\\delta**2 + 2*R_0 + \\Phi*\\delta**2 + \\Phi)**(3/2))"
      ]
     },
     "metadata": {},
     "output_type": "display_data"
    }
   ],
   "source": [
    "d_pdf_sym = sp.simplify(\n",
    "    sp.integrate(Gauss_pdf(s_r*s_d, s_f, sp.sqrt((s_f+2*s_dc)/s_T)) \\\n",
    "                 * Gauss_pdf(s_r, s_f, sp.sqrt((s_f+s_dc)/s_T)) \\\n",
    "                 * abs(s_r),\n",
    "              (s_r, -sp.oo, sp.oo))\n",
    ")\n",
    "display(d_pdf_sym)"
   ]
  },
  {
   "cell_type": "markdown",
   "id": "4d99a67b",
   "metadata": {},
   "source": [
    "Now we need to factor in the second exponential, because the first exponential alone may cause floating-point overflow. We will sum their arguments separately."
   ]
  },
  {
   "cell_type": "code",
   "execution_count": 12,
   "id": "ccce73f5",
   "metadata": {},
   "outputs": [
    {
     "data": {
      "text/plain": [
       "'sp.sqrt(2)*(sp.sqrt(sp.pi)*sp.sqrt(s_T)*s_f*(s_dc*s_d + 2*s_dc + s_f*s_d + s_f)*sp.exp(s_T*s_f**2*(s_dc*s_d + 2*s_dc + s_f*s_d + s_f)**2/(2*(s_dc + s_f)*(2*s_dc + s_f)*(s_dc*s_d**2 + 2*s_dc + s_f*s_d**2 + s_f)))*sp.erf(sp.sqrt(2)*sp.sqrt(s_T)*s_f*(s_dc*s_d + 2*s_dc + s_f*s_d + s_f)/(2*sp.sqrt(2*s_dc**3*s_d**2 + 4*s_dc**3 + 5*s_dc**2*s_f*s_d**2 + 8*s_dc**2*s_f + 4*s_dc*s_f**2*s_d**2 + 5*s_dc*s_f**2 + s_f**3*s_d**2 + s_f**3))) + sp.sqrt(2)*sp.sqrt(2*s_dc**3*s_d**2 + 4*s_dc**3 + 5*s_dc**2*s_f*s_d**2 + 8*s_dc**2*s_f + 4*s_dc*s_f**2*s_d**2 + 5*s_dc*s_f**2 + s_f**3*s_d**2 + s_f**3))*sp.exp(-s_T*s_f**2*(3*s_dc + 2*s_f)/(2*(s_dc + s_f)*(2*s_dc + s_f)))/(2*sp.pi*(s_dc*s_d**2 + 2*s_dc + s_f*s_d**2 + s_f)**(3/2))'"
      ]
     },
     "execution_count": 12,
     "metadata": {},
     "output_type": "execute_result"
    }
   ],
   "source": [
    "# create an input code from the symbolic expresssion\n",
    "str(d_pdf_sym).replace('\\\\Phi','s_f').replace('\\\\delta', 's_d').replace('R_0', 's_dc').replace('T', 's_T')\\\n",
    ".replace('sqrt', 'sp.sqrt').replace('erf', 'sp.erf').replace('exp', 'sp.exp').replace('pi', 'sp.pi')"
   ]
  },
  {
   "cell_type": "code",
   "execution_count": 13,
   "id": "bbd331fd",
   "metadata": {},
   "outputs": [
    {
     "data": {
      "text/latex": [
       "$\\displaystyle \\frac{T \\Phi^{2} \\left(- \\delta^{2} + 2 \\delta - 1\\right)}{2 \\left(R_{0} \\delta^{2} + 2 R_{0} + \\Phi \\delta^{2} + \\Phi\\right)}$"
      ],
      "text/plain": [
       "T*\\Phi**2*(-\\delta**2 + 2*\\delta - 1)/(2*(R_0*\\delta**2 + 2*R_0 + \\Phi*\\delta**2 + \\Phi))"
      ]
     },
     "metadata": {},
     "output_type": "display_data"
    }
   ],
   "source": [
    "first_exp_arg = sp.simplify(\n",
    "    -s_T*s_f**2*(3*s_dc + 2*s_f)/(2*(s_dc + s_f)*(2*s_dc + s_f)) \\\n",
    "    +s_T*s_f**2*(s_dc*s_d + 2*s_dc + s_f*s_d + s_f)**2/(2*(s_dc + s_f)*(2*s_dc + s_f)*(s_dc*s_d**2 + 2*s_dc + s_f*s_d**2 + s_f))\n",
    ")\n",
    "display(first_exp_arg)"
   ]
  },
  {
   "cell_type": "code",
   "execution_count": 14,
   "id": "ddb97309",
   "metadata": {},
   "outputs": [
    {
     "data": {
      "text/latex": [
       "$\\displaystyle \\frac{\\sqrt{2} \\left(\\sqrt{\\pi} \\sqrt{T} \\Phi \\left(R_{0} \\delta + 2 R_{0} + \\Phi \\delta + \\Phi\\right) e^{\\frac{T \\Phi^{2} \\left(- \\delta^{2} + 2 \\delta - 1\\right)}{2 \\left(R_{0} \\delta^{2} + 2 R_{0} + \\Phi \\delta^{2} + \\Phi\\right)}} \\operatorname{erf}{\\left(\\frac{\\sqrt{2} \\sqrt{T} \\Phi \\left(R_{0} \\delta + 2 R_{0} + \\Phi \\delta + \\Phi\\right)}{2 \\sqrt{2 R_{0}^{3} \\delta^{2} + 4 R_{0}^{3} + 5 R_{0}^{2} \\Phi \\delta^{2} + 8 R_{0}^{2} \\Phi + 4 R_{0} \\Phi^{2} \\delta^{2} + 5 R_{0} \\Phi^{2} + \\Phi^{3} \\delta^{2} + \\Phi^{3}}} \\right)} + \\sqrt{2} \\sqrt{2 R_{0}^{3} \\delta^{2} + 4 R_{0}^{3} + 5 R_{0}^{2} \\Phi \\delta^{2} + 8 R_{0}^{2} \\Phi + 4 R_{0} \\Phi^{2} \\delta^{2} + 5 R_{0} \\Phi^{2} + \\Phi^{3} \\delta^{2} + \\Phi^{3}} e^{- \\frac{T \\Phi^{2} \\cdot \\left(3 R_{0} + 2 \\Phi\\right)}{\\left(2 R_{0} + \\Phi\\right) \\left(2 R_{0} + 2 \\Phi\\right)}}\\right)}{2 \\pi \\left(R_{0} \\delta^{2} + 2 R_{0} + \\Phi \\delta^{2} + \\Phi\\right)^{1.5}}$"
      ],
      "text/plain": [
       "sqrt(2)*(sqrt(pi)*sqrt(T)*\\Phi*(R_0*\\delta + 2*R_0 + \\Phi*\\delta + \\Phi)*exp(T*\\Phi**2*(-\\delta**2 + 2*\\delta - 1)/(2*(R_0*\\delta**2 + 2*R_0 + \\Phi*\\delta**2 + \\Phi)))*erf(sqrt(2)*sqrt(T)*\\Phi*(R_0*\\delta + 2*R_0 + \\Phi*\\delta + \\Phi)/(2*sqrt(2*R_0**3*\\delta**2 + 4*R_0**3 + 5*R_0**2*\\Phi*\\delta**2 + 8*R_0**2*\\Phi + 4*R_0*\\Phi**2*\\delta**2 + 5*R_0*\\Phi**2 + \\Phi**3*\\delta**2 + \\Phi**3))) + sqrt(2)*sqrt(2*R_0**3*\\delta**2 + 4*R_0**3 + 5*R_0**2*\\Phi*\\delta**2 + 8*R_0**2*\\Phi + 4*R_0*\\Phi**2*\\delta**2 + 5*R_0*\\Phi**2 + \\Phi**3*\\delta**2 + \\Phi**3)*exp(-T*\\Phi**2*(3*R_0 + 2*\\Phi)/((2*R_0 + \\Phi)*(2*R_0 + 2*\\Phi))))/(2*pi*(R_0*\\delta**2 + 2*R_0 + \\Phi*\\delta**2 + \\Phi)**1.5)"
      ]
     },
     "metadata": {},
     "output_type": "display_data"
    }
   ],
   "source": [
    "d_pdf_sym = sp.sqrt(2)*(sp.sqrt(sp.pi)*sp.sqrt(s_T)*s_f*(s_dc*s_d + 2*s_dc + s_f*s_d + s_f)\\\n",
    "            *sp.exp(first_exp_arg)\\\n",
    "            *sp.erf(sp.sqrt(2)*sp.sqrt(s_T)*s_f*(s_dc*s_d + 2*s_dc + s_f*s_d + s_f)/(2*sp.sqrt(2*s_dc**3*s_d**2 + 4*s_dc**3 + 5*s_dc**2*s_f*s_d**2 + 8*s_dc**2*s_f + 4*s_dc*s_f**2*s_d**2 + 5*s_dc*s_f**2 + s_f**3*s_d**2 + s_f**3)))\\\n",
    "            + sp.sqrt(2)*sp.exp(-s_T*s_f**2*(3*s_dc + 2*s_f)/(2*(s_dc + s_f)*(2*s_dc + s_f)))\\\n",
    "                        *sp.sqrt(2*s_dc**3*s_d**2 + 4*s_dc**3 + 5*s_dc**2*s_f*s_d**2 + 8*s_dc**2*s_f + 4*s_dc*s_f**2*s_d**2 + 5*s_dc*s_f**2 + s_f**3*s_d**2 + s_f**3))\\\n",
    "/(2*sp.pi*(s_dc*s_d**2 + 2*s_dc + s_f*s_d**2 + s_f)**(3/2))\n",
    "display(d_pdf_sym)"
   ]
  },
  {
   "cell_type": "markdown",
   "id": "2b252c1d",
   "metadata": {},
   "source": [
    "We arrive at the PDF $p(\\delta)$, which is a function of $\\Phi$ (equivalent to $R^\\mathrm{corr}_\\mathrm{AB}$), $R_0$, and $T$."
   ]
  },
  {
   "cell_type": "code",
   "execution_count": 15,
   "id": "e8eff2ef",
   "metadata": {},
   "outputs": [],
   "source": [
    "# convert the symbolic expression into a numerical function\n",
    "d_pdf = sp.lambdify([s_d, s_f, s_dc, s_T], d_pdf_sym)"
   ]
  },
  {
   "cell_type": "markdown",
   "id": "7963d46f",
   "metadata": {},
   "source": [
    "Here we use the distribution of $\\delta$ to calculate the distribution of the avarege value of $N$ values of $\\Delta$. We know that the PDF of $(X+Y)$ is a convolution of the respective PDFs of $X, Y$. Therefore we need to calculate an $(N-1)$-fold convolution of $p(\\delta)$. As convolution corresponds to multiplication in the Fourier image, we can write\n",
    "$$\n",
    "p\\left( \\sum_{i=1}^N \\delta_i \\right) = \\mathcal{F}^{-1} \\left( \\mathcal{F}(p(\\delta))^N\\right)\n",
    "$$"
   ]
  },
  {
   "cell_type": "code",
   "execution_count": 16,
   "id": "ccb6d9c4",
   "metadata": {},
   "outputs": [],
   "source": [
    "# probability density distribution of the sum of deltas\n",
    "def GetNumericalDist(f, dc, T, nConv, d_range=1000., sam=100000+1):\n",
    "    d_sp = np.linspace(-d_range, d_range, sam)\n",
    "    u = 2*d_range/(sam-1)\n",
    "    d_dist = ifftshift( d_pdf(d_sp, f, dc, T) )\n",
    "    d_dist = (u**nConv)*(fft(d_dist)**(nConv+1))\n",
    "    d_dist = np.real(fftshift(ifft(d_dist)))\n",
    "    return (d_sp, d_dist)\n",
    "\n",
    "# based on the distribution above, calculate the estimators\n",
    "def GetNumMeanInterval(f, dc, T, nVals, confid=erf(1/np.sqrt(2)), d_range=1000., sam=100000+1):\n",
    "    d_sp, d_dist = GetNumericalDist(f, dc, T, nVals-1, d_range, sam)\n",
    "    u = 2*d_range/(sam-1)\n",
    "    m = sum(d_sp*d_dist*u)\n",
    "    \n",
    "    mi = round(m/u+(sam-1)/2)\n",
    "    i1 = i2 = mi\n",
    "    \n",
    "    s = d_dist[mi]\n",
    "    while s < (confid/u):\n",
    "        if (d_dist[i1] > d_dist[i2]):\n",
    "            i1 -= 1\n",
    "            s += d_dist[i1]\n",
    "        else:\n",
    "            i2 += 1\n",
    "            s += d_dist[i2]\n",
    "    \n",
    "    # because the mean nonlinearity is divided by N and shifted, apply these now\n",
    "    m = m/nVals - 1.\n",
    "    d_sp = d_sp/nVals - 1.\n",
    "    \n",
    "    # return the mean and the lower and upper bounds of the confidence interval\n",
    "    return np.array([m, d_sp[i1], d_sp[i2]])"
   ]
  },
  {
   "cell_type": "markdown",
   "id": "b32389dc",
   "metadata": {},
   "source": [
    "### High rates"
   ]
  },
  {
   "cell_type": "markdown",
   "id": "d185a6e5",
   "metadata": {},
   "source": [
    "#### Standard deviation of $\\delta$"
   ]
  },
  {
   "cell_type": "markdown",
   "id": "209f9947",
   "metadata": {},
   "source": [
    "For higher rates, we assume a normal distribution of $\\delta$ and the full correction\n",
    "$$\n",
    "R^\\mathrm{corr} = \\frac{1}{\\frac{1}{R^\\mathrm{det}} - \\tau} - R_0.\n",
    "$$"
   ]
  },
  {
   "cell_type": "code",
   "execution_count": 17,
   "id": "493989f7",
   "metadata": {},
   "outputs": [],
   "source": [
    "s_tau, s_ra, s_rb, s_rab, s_Fa, s_Fb, s_Fab = \\\n",
    "    sp.symbols(r'\\tau R_a R_b R_{ab} \\phi_a \\phi_b \\phi_{ab}', positive=True)"
   ]
  },
  {
   "cell_type": "markdown",
   "id": "db91d1c6",
   "metadata": {},
   "source": [
    "Here we make $\\Delta^\\mathrm{corr}$ a function of detected rates by substituting the corrections."
   ]
  },
  {
   "cell_type": "code",
   "execution_count": 18,
   "id": "0faa780d",
   "metadata": {},
   "outputs": [
    {
     "data": {
      "text/latex": [
       "$\\displaystyle \\frac{- 2 R_{0} + \\frac{1}{- \\tau + \\frac{1}{R_{b}}} + \\frac{1}{- \\tau + \\frac{1}{R_{a}}}}{- R_{0} + \\frac{1}{- \\tau + \\frac{1}{R_{ab}}}}$"
      ],
      "text/plain": [
       "(-2*R_0 + 1/(-\\tau + 1/R_b) + 1/(-\\tau + 1/R_a))/(-R_0 + 1/(-\\tau + 1/R_{ab}))"
      ]
     },
     "metadata": {},
     "output_type": "display_data"
    }
   ],
   "source": [
    "dlt = (s_Fa + s_Fb)/s_Fab\n",
    "for c in ('a','b','ab'):\n",
    "    dlt = dlt.subs(eval('s_F'+c), 1/(1/eval('s_r'+c)-s_tau)-s_dc)\n",
    "display(dlt)"
   ]
  },
  {
   "cell_type": "markdown",
   "id": "93870c51",
   "metadata": {},
   "source": [
    "All the detected rates are normal, so we calculate the standard deviation by a linear expansion around the mean value. We recall that the detected rate have the mean $\\theta$ and variance $(1-\\tau\\theta)^2 \\theta / T$."
   ]
  },
  {
   "cell_type": "code",
   "execution_count": 19,
   "id": "4c2b8a64",
   "metadata": {},
   "outputs": [
    {
     "data": {
      "text/latex": [
       "$\\displaystyle \\frac{\\sqrt{2} \\sqrt{2 \\left(R_{0} + \\Phi\\right) \\left(\\tau \\left(R_{0} + \\Phi\\right) + 1\\right) + \\left(2 R_{0} + \\Phi\\right) \\left(\\tau \\left(2 R_{0} + \\Phi\\right) + 2\\right)}}{2 \\sqrt{T} \\Phi}$"
      ],
      "text/plain": [
       "sqrt(2)*sqrt(2*(R_0 + \\Phi)*(\\tau*(R_0 + \\Phi) + 1) + (2*R_0 + \\Phi)*(\\tau*(2*R_0 + \\Phi) + 2))/(2*sqrt(T)*\\Phi)"
      ]
     },
     "metadata": {},
     "output_type": "display_data"
    }
   ],
   "source": [
    "d_std = sp.sqrt(\n",
    "    sum( [sp.diff(dlt, s)**2 * ((1-s_tau*s)**2 * s/s_T) for s in (s_ra,s_rb,s_rab)] )\n",
    ")\n",
    "d_std = d_std.subs(s_rb, s_ra) # balanced splitting\n",
    "d_std = d_std.subs(s_ra, 1/(1/(s_f/2+s_dc)+s_tau))\n",
    "d_std = d_std.subs(s_rab, 1/(1/(s_f+s_dc)+s_tau))\n",
    "d_std = sp.simplify(d_std)\n",
    "display(d_std)"
   ]
  },
  {
   "cell_type": "markdown",
   "id": "736d6095",
   "metadata": {},
   "source": [
    "The standard deviation of $\\delta$ here is again the function of $\\Phi$ (equivalent to $R^\\mathrm{corr}_\\mathrm{AB}$), $R_0$, $T$, and newly $\\tau$."
   ]
  },
  {
   "cell_type": "code",
   "execution_count": 20,
   "id": "6c1ba74f",
   "metadata": {},
   "outputs": [],
   "source": [
    "d_std_gauss = sp.lambdify([s_f, s_dc, s_tau, s_T], d_std)"
   ]
  },
  {
   "cell_type": "markdown",
   "id": "cd8da85c",
   "metadata": {},
   "source": [
    "#### Mean value of $\\delta$"
   ]
  },
  {
   "cell_type": "markdown",
   "id": "6a65d73e",
   "metadata": {},
   "source": [
    "We calculate the small bias in the mean value by first evaluating the mean values of the numerator and denominator of $\\delta$. These are a function of the normally distributed random variables $R^\\mathrm{det}_i$, $i$ = A, B, AB. "
   ]
  },
  {
   "cell_type": "code",
   "execution_count": 21,
   "id": "66b0209a",
   "metadata": {},
   "outputs": [],
   "source": [
    "def TaylorTerm(expr, x, x0, i):\n",
    "    return(sp.diff(expr, x, i).subs(x, x0)*(x-x0)**i/sp.factorial(i))"
   ]
  },
  {
   "cell_type": "markdown",
   "id": "49802557",
   "metadata": {},
   "source": [
    "$\\left\\langle R^\\mathrm{corr}_\\mathrm{A,B} \\right\\rangle$"
   ]
  },
  {
   "cell_type": "code",
   "execution_count": 22,
   "id": "160f473b",
   "metadata": {},
   "outputs": [],
   "source": [
    "def meanR(x0, taylor_maxOrder=2):\n",
    "    \n",
    "    # placeholder for the standard deviation\n",
    "    s_sgma = sp.Symbol('sigma', positive=True)\n",
    "    # normally distributed variable acting as the detected rate\n",
    "    s_x = Normal('x', x0, s_sgma)\n",
    "    \n",
    "    # calculate the mean value of the Taylor expansion\n",
    "    res = sum( [sp.integrate(\n",
    "            TaylorTerm(1/(1/s_x-s_tau)-s_dc, s_x, x0, i)*density(s_x)(s_x),\\\n",
    "            (s_x, -sp.oo, sp.oo)\n",
    "        )\n",
    "        for i in range(taylor_maxOrder+1)]\n",
    "    )\n",
    "    \n",
    "    res = res.subs(s_sgma, (1-s_tau*x0)*sp.sqrt(x0/s_T))\n",
    "    \n",
    "    return res.simplify()"
   ]
  },
  {
   "cell_type": "markdown",
   "id": "47c2b848",
   "metadata": {},
   "source": [
    "$\\left\\langle 1/R^\\mathrm{corr}_\\mathrm{AB} \\right\\rangle$"
   ]
  },
  {
   "cell_type": "code",
   "execution_count": 23,
   "id": "0a32fbe9",
   "metadata": {},
   "outputs": [],
   "source": [
    "def meanInvR(x0, taylor_maxOrder=2):\n",
    "    \n",
    "    s_sgma = sp.Symbol('sigma', positive=True)\n",
    "    s_x = Normal('x', x0, s_sgma)\n",
    "    \n",
    "    res = sum( [sp.integrate(\n",
    "            TaylorTerm(1/(1/(1/s_x-s_tau)-s_dc), s_x, x0, i)*density(s_x)(s_x),\\\n",
    "            (s_x, -sp.oo, sp.oo)\n",
    "        )\n",
    "        for i in range(taylor_maxOrder+1)]\n",
    "    )\n",
    "\n",
    "    res = res.subs(s_sgma, (1-s_tau*x0)*sp.sqrt(x0/s_T))\n",
    "    \n",
    "    return res.simplify()"
   ]
  },
  {
   "cell_type": "code",
   "execution_count": 24,
   "id": "86347f52",
   "metadata": {},
   "outputs": [
    {
     "data": {
      "text/latex": [
       "$\\displaystyle \\frac{- T^{2} \\Phi^{3} + \\left(T \\Phi + \\tau \\left(2 R_{0} + \\Phi\\right)\\right) \\left(T \\Phi^{2} + \\left(R_{0} + \\Phi\\right) \\left(- \\Phi \\tau + \\tau \\left(R_{0} + \\Phi\\right) + 1\\right)\\right)}{T^{2} \\Phi^{3}}$"
      ],
      "text/plain": [
       "(-T**2*\\Phi**3 + (T*\\Phi + \\tau*(2*R_0 + \\Phi))*(T*\\Phi**2 + (R_0 + \\Phi)*(-\\Phi*\\tau + \\tau*(R_0 + \\Phi) + 1)))/(T**2*\\Phi**3)"
      ]
     },
     "metadata": {},
     "output_type": "display_data"
    }
   ],
   "source": [
    "mg = 2*meanR(1/(1/(s_f/2+s_dc)+s_tau))*meanInvR(1/(1/(s_f+s_dc)+s_tau)) - 1\n",
    "mg = mg.simplify()\n",
    "display(mg)"
   ]
  },
  {
   "cell_type": "markdown",
   "id": "9d7bd7a4",
   "metadata": {},
   "source": [
    "Taking into account these approximations,\n",
    "$\\tau \\ll T, \\tau R_0 \\ll 1$,\n",
    "we can simplify further by hand:"
   ]
  },
  {
   "cell_type": "code",
   "execution_count": 25,
   "id": "47b88a88",
   "metadata": {
    "scrolled": true
   },
   "outputs": [
    {
     "data": {
      "text/latex": [
       "$\\displaystyle \\frac{R_{0} + \\Phi}{T \\Phi^{2}}$"
      ],
      "text/plain": [
       "(R_0 + \\Phi)/(T*\\Phi**2)"
      ]
     },
     "metadata": {},
     "output_type": "display_data"
    }
   ],
   "source": [
    "mgs = (s_dc + s_f)/(s_T*s_f**2)\n",
    "display(mgs)"
   ]
  },
  {
   "cell_type": "code",
   "execution_count": 26,
   "id": "b4c627ed",
   "metadata": {},
   "outputs": [],
   "source": [
    "mean_gauss = sp.lambdify([s_f,s_dc,s_tau,s_T], mgs)"
   ]
  },
  {
   "cell_type": "markdown",
   "id": "163d8158",
   "metadata": {},
   "source": [
    "### Estimator function"
   ]
  },
  {
   "cell_type": "code",
   "execution_count": 27,
   "id": "76169651",
   "metadata": {},
   "outputs": [],
   "source": [
    "# the overall estimator of average nonlinearity\n",
    "# depending on the rate, it uses the respective approximation\n",
    "def delta_estimator(f, dc, tau, T, reps, confid=erf(1/np.sqrt(2))):\n",
    "    if f < dc:\n",
    "        return GetNumMeanInterval(f, dc, T, reps, confid)\n",
    "    else:\n",
    "        m = mean_gauss(f, dc, tau, T)\n",
    "        s = d_std_gauss(f, dc, tau, T)/np.sqrt(reps)\n",
    "        s *= np.sqrt(2)*erfinv(confid)\n",
    "        return np.array([m, m-s, m+s])"
   ]
  },
  {
   "cell_type": "markdown",
   "id": "09d055ab",
   "metadata": {},
   "source": [
    "## Data corrections"
   ]
  },
  {
   "cell_type": "code",
   "execution_count": 28,
   "id": "1b1d2b3f",
   "metadata": {},
   "outputs": [],
   "source": [
    "dat_C = [CorrectRates(d/meas_time*1e-6,dc,dt)*meas_time*1e6 for d,dc,dt in zip(dat,dc_fit,dt_fit)]"
   ]
  },
  {
   "cell_type": "code",
   "execution_count": 29,
   "id": "3c3229e1",
   "metadata": {},
   "outputs": [],
   "source": [
    "delta_raw_C = [(d[:,:,0]+d[:,:,1])/d[:,:,2]-1. for d in dat_C];\n",
    "\n",
    "rate_means_C = [np.mean(d[:,:,2]/meas_time, axis=1)*1e-6 for d in dat_C]\n",
    "delta_means_C = [np.mean(delta, axis=1) for delta in delta_raw_C]\n",
    "delta_errs_C = [np.std(delta, axis=1, ddof=1)/np.sqrt(reps) for delta in delta_raw_C]"
   ]
  },
  {
   "cell_type": "code",
   "execution_count": 30,
   "id": "428bc20c",
   "metadata": {},
   "outputs": [],
   "source": [
    "dat_C_scatter = [d.reshape((-1,3)) for d in dat_C]\n",
    "delta_raw_C_scatter = [d.reshape((-1)) for d in delta_raw_C]"
   ]
  },
  {
   "cell_type": "markdown",
   "id": "af36672e",
   "metadata": {},
   "source": [
    "## Calculations for the plot"
   ]
  },
  {
   "cell_type": "code",
   "execution_count": 31,
   "id": "0d09b7ee",
   "metadata": {},
   "outputs": [],
   "source": [
    "# the confidence level for the shown interval\n",
    "conf_level = 0.95"
   ]
  },
  {
   "cell_type": "code",
   "execution_count": 32,
   "id": "cb79405d",
   "metadata": {},
   "outputs": [],
   "source": [
    "# return the cumulative distribution function (CDF) depending on the rate\n",
    "def delta_mean_cdf(f, dc, tau, T):\n",
    "    if f < dc:\n",
    "        d_sp, d_dist = GetNumericalDist(f, dc, T, 0)\n",
    "        d_dt = d_sp[1]-d_sp[0]\n",
    "        d_cum = np.cumsum(d_dist)*d_dt\n",
    "        return interp1d(d_sp, d_cum)\n",
    "    else:\n",
    "        m = mean_gauss(f, dc, tau, T)\n",
    "        s = d_std_gauss(f, dc, tau, T)\n",
    "        return partial(norm.cdf, loc=m, scale=s)"
   ]
  },
  {
   "cell_type": "code",
   "execution_count": 33,
   "id": "839cb445",
   "metadata": {},
   "outputs": [],
   "source": [
    "# build a plot of the mean and confidence interval\n",
    "# for every data point, also calculate the K-S statistic\n",
    "est_mean = [None]*len(dat_C)\n",
    "ks_vals = [None]*len(dat_C)\n",
    "\n",
    "for i, dc, dt, rate_DET, delta_DET in \\\n",
    "    zip(range(len(dat_C)), dc_fit, dt_fit, rate_means_C, delta_raw_C):\n",
    "\n",
    "    est_mean[i] = {}\n",
    "    est_mean[i]['x'] = np.logspace(-1, 8, 200)\n",
    "    e = map(partial(delta_estimator, dc=dc*1e6, tau=dt*1e-6, T=meas_time,\n",
    "                    reps=reps, confid=conf_level), est_mean[i]['x'])\n",
    "    e = np.array(list(e)).T\n",
    "    est_mean[i]['means'] = e[0]\n",
    "    est_mean[i]['lower'] = e[1]\n",
    "    est_mean[i]['upper'] = e[2]\n",
    "    \n",
    "    ks_vals[i] = np.empty((rate_DET.shape[0], 2))\n",
    "\n",
    "    for j, r, d in zip(range(len(rate_DET)), rate_DET, delta_DET):\n",
    "        cdf = delta_mean_cdf(r*1e6, dc=dc*1e6, tau=dt*1e-6, T=meas_time)\n",
    "        ks_vals[i][j] = ks_1samp(d, cdf)"
   ]
  },
  {
   "cell_type": "markdown",
   "id": "77b331da",
   "metadata": {},
   "source": [
    "## The main plot"
   ]
  },
  {
   "cell_type": "code",
   "execution_count": 34,
   "id": "14ccd0fa",
   "metadata": {},
   "outputs": [
    {
     "data": {
      "image/png": "[encoded data removed]",
      "text/plain": [
       "<Figure size 648x432 with 5 Axes>"
      ]
     },
     "metadata": {
      "needs_background": "light"
     },
     "output_type": "display_data"
    }
   ],
   "source": [
    "def PlotDeviations():\n",
    "    \n",
    "    symlog_th = 1e-4\n",
    "    KS_th = (1e-3, 1e0)\n",
    "    \n",
    "    fig = plt.figure(figsize=(9, 6))\n",
    "    gs = fig.add_gridspec(1, 2, width_ratios=[2, 0.05])\n",
    "    gsm = gs[0].subgridspec(2, 2, wspace=0.35, hspace=0.3)\n",
    "    gsl = gs[1].subgridspec(3, 1, height_ratios=[1,2,1])\n",
    "    \n",
    "    titles = ['SPAD-'+str(n) for n in range(1,4)]+['SPAD-P']\n",
    "    \n",
    "    nrm = LogNorm(*KS_th, clip=True)\n",
    "    cmap = get_cmap('gist_heat')\n",
    "\n",
    "    ## Colorbar legend\n",
    "    \n",
    "    lax = fig.add_subplot(gsl[1])\n",
    "    \n",
    "    fig.colorbar(ScalarMappable(norm=nrm, cmap=cmap),\n",
    "                    cax=lax, orientation='vertical', label='K–S p-value')\n",
    "    \n",
    "    def cb_ytick(x, pos):\n",
    "        lx = int(np.log10(x))\n",
    "        pre = ''\n",
    "        if x <= KS_th[0]:\n",
    "            pre = '\\leq '\n",
    "        return f'${pre}10^{{{lx}}}$'\n",
    "        \n",
    "    lax.yaxis.set_major_formatter(FuncFormatter(cb_ytick))\n",
    "\n",
    "    ## Main axes\n",
    "\n",
    "    for gi, rate, delta, tit, er, est, ks in \\\n",
    "        zip(range(4), rate_means_C, delta_means_C, titles, delta_errs_C, est_mean, ks_vals):\n",
    "        \n",
    "        ax = fig.add_subplot(gsm[gi])\n",
    "        \n",
    "        plot_range = (est['x'][0], est['x'][-1])\n",
    "        \n",
    "        ## Select only points visible on the log-scale\n",
    "\n",
    "        delta = delta[rate > 0]\n",
    "        er = er[rate > 0]\n",
    "        ks = ks[rate > 0]\n",
    "\n",
    "        rate = rate[rate > 0]\n",
    "\n",
    "        ## Set up axes\n",
    "\n",
    "        ax.set_xscale('log')\n",
    "        ax.set_yscale('symlog', linthresh=symlog_th, linscale=1.5)\n",
    "\n",
    "        ax.grid(visible=True, which='major', color='lightgray', linestyle='--', zorder=0)\n",
    "        ax.set_axisbelow(True)\n",
    "\n",
    "        ax.set_xlim(*plot_range)\n",
    "        ax.set_ylim(-1e2, 1e2)\n",
    "        \n",
    "        ## Linear region patches\n",
    "\n",
    "        axes_break = patches.Rectangle((plot_range[0], -symlog_th), plot_range[1]-plot_range[0],\n",
    "                                       2*symlog_th, fc='w', ec='lightgrey')\n",
    "        ax.add_patch(axes_break)\n",
    "\n",
    "        ax.annotate('linear', xy=(0.02, 0.5), xycoords='axes fraction', ha='left', va='center', fontsize=10,\n",
    "                   color='gray', rotation=90)\n",
    "\n",
    "        ## Plot the confidence interval and expected value\n",
    "\n",
    "        ax.fill_between(est['x'], est['lower'], est['upper'], alpha=0.2, zorder=1)\n",
    "        ax.plot(est['x'], est['means'], c='#114366', zorder=2)\n",
    "        \n",
    "        ## Data and coloring\n",
    "        \n",
    "        clrs = cmap(nrm(ks[:,1]))\n",
    "        \n",
    "        p = ax.scatter(rate*1e6, delta, s=25., c=clrs, edgecolors='k')\n",
    "\n",
    "        ## Labels\n",
    "\n",
    "        ax.set_xlabel(r'$R^{\\mathrm{corr}}_{\\mathrm{AB}}$ [cps]')\n",
    "        ax.set_ylabel(r'$\\overline{\\Delta}^{\\mathrm{corr}}$')\n",
    "\n",
    "        ann = ax.annotate(tit, xy=(0.5, 0.93), xycoords='axes fraction', ha='center', va='top',\n",
    "                          fontsize=12, bbox=dict(boxstyle='round', color='w', ec='k'))\n",
    "\n",
    "\n",
    "    gs.tight_layout(fig)\n",
    "    \n",
    "    plt.show()\n",
    "    \n",
    "    return fig\n",
    "\n",
    "fig1_means = PlotDeviations()"
   ]
  }
 ],
 "metadata": {
  "kernelspec": {
   "display_name": "Python 3 (ipykernel)",
   "language": "python",
   "name": "python3"
  },
  "language_info": {
   "codemirror_mode": {
    "name": "ipython",
    "version": 3
   },
   "file_extension": ".py",
   "mimetype": "text/x-python",
   "name": "python",
   "nbconvert_exporter": "python",
   "pygments_lexer": "ipython3",
   "version": "3.10.4"
  }
 },
 "nbformat": 4,
 "nbformat_minor": 5
}
