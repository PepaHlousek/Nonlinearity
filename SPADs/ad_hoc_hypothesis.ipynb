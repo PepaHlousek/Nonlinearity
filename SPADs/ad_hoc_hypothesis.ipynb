{
 "cells": [
  {
   "cell_type": "code",
   "execution_count": 1,
   "id": "68049929",
   "metadata": {},
   "outputs": [],
   "source": [
    "import os\n",
    "import numpy as np\n",
    "import scipy\n",
    "import matplotlib\n",
    "from scipy.interpolate import interp1d\n",
    "from scipy.optimize import least_squares\n",
    "import matplotlib.pyplot as plt\n",
    "import matplotlib.patches as patches\n",
    "from matplotlib.ticker import FuncFormatter,LogLocator\n",
    "from matplotlib import rcParams\n",
    "%matplotlib inline"
   ]
  },
  {
   "cell_type": "code",
   "execution_count": 2,
   "id": "0c5b1db5",
   "metadata": {},
   "outputs": [],
   "source": [
    "rcParams['font.size'] = 8\n",
    "colwidth = 246 / 72.27\n",
    "highlight_boundary = (1e3, 5e5)"
   ]
  },
  {
   "cell_type": "code",
   "execution_count": 3,
   "id": "2cf9cf14",
   "metadata": {},
   "outputs": [],
   "source": [
    "def symlog_ytick(x, pos):\n",
    "    if x == 0:\n",
    "        return f'$\\pm 10^{{{syml_th}}}$'\n",
    "    lx = int(np.log10(abs(x)))\n",
    "    if x < 0:\n",
    "        pre = '-'\n",
    "    else:\n",
    "        pre = ''\n",
    "    if lx > syml_th:\n",
    "        return f'${pre}10^{{{lx}}}$'\n",
    "    else:\n",
    "        return None"
   ]
  },
  {
   "cell_type": "code",
   "execution_count": 4,
   "id": "5f9f44d0",
   "metadata": {},
   "outputs": [],
   "source": [
    "meas_time = 20.\n",
    "reps = 30\n",
    "\n",
    "syml_th = -4\n",
    "\n",
    "# fit parameters from the ordinary model\n",
    "dc_fit = 1.7476e-05\n",
    "tau_fit = 0.06104589"
   ]
  },
  {
   "cell_type": "markdown",
   "id": "f39c1120",
   "metadata": {},
   "source": [
    "# Data import"
   ]
  },
  {
   "cell_type": "code",
   "execution_count": 5,
   "id": "2fde8fc7",
   "metadata": {},
   "outputs": [],
   "source": [
    "dat = np.genfromtxt('COUNT.txt', encoding='utf-8-sig')\n",
    "dat = np.array(np.split(dat, len(dat)/reps))\n",
    "\n",
    "delta_raw = (dat[:,:,0]+dat[:,:,1])/dat[:,:,2]-1.\n",
    "\n",
    "rate_means = np.mean(dat[:,:,2]/meas_time, axis=1)*1e-6\n",
    "delta_means = np.mean(delta_raw, axis=1)\n",
    "delta_errs = np.std(delta_raw, axis=1, ddof=1)/np.sqrt(reps)"
   ]
  },
  {
   "cell_type": "markdown",
   "id": "4cc9dbb2",
   "metadata": {},
   "source": [
    "# Ad hoc fit"
   ]
  },
  {
   "cell_type": "code",
   "execution_count": 6,
   "id": "44d130fa",
   "metadata": {},
   "outputs": [],
   "source": [
    "# the hypothetical model\n",
    "def RdetPoly(R, dc, tau, ef, p, R1, e):\n",
    "    return 1/(1/(dc + ef*R + p*(R/R1)**e) + tau)\n",
    "\n",
    "# as the model takes the incident rate, we need to sample incident rates\n",
    "# to create points on the x-y plane of the nonlinearity plot.\n",
    "# These points are interpolated and the resulting function used for the fit.\n",
    "\n",
    "# vector of residuals to minimize by least squares\n",
    "def LS_residuals(pars):\n",
    "    R = np.logspace(-7,2,100)\n",
    "    rdet = RdetPoly(R, *pars)\n",
    "    rdetHalf = RdetPoly(R/2, *pars)\n",
    "    f = interp1d(rdet, 2*rdetHalf/rdet - 1, bounds_error=False, fill_value=1.)\n",
    "    return (f(rate_means)-delta_means)/delta_errs"
   ]
  },
  {
   "cell_type": "code",
   "execution_count": 7,
   "id": "54361642",
   "metadata": {},
   "outputs": [],
   "source": [
    "ls = least_squares(LS_residuals, (17e-6, 0.07, 1., 5, 1., 1.01),\n",
    "                   bounds=([0,       0,  0,   0, 0.1, 0.5],\n",
    "                           [50e-6, 0.1, 10, 10., 10., 1.5]))"
   ]
  },
  {
   "cell_type": "code",
   "execution_count": 8,
   "id": "ed421ce8",
   "metadata": {
    "scrolled": true
   },
   "outputs": [
    {
     "data": {
      "text/plain": [
       "array([1.76235701e-05, 6.84580205e-02, 1.09791148e-01, 5.03647334e+00,\n",
       "       1.20597411e+00, 1.00434902e+00])"
      ]
     },
     "metadata": {},
     "output_type": "display_data"
    }
   ],
   "source": [
    "display(ls.x)"
   ]
  },
  {
   "cell_type": "markdown",
   "id": "d1fb3f32",
   "metadata": {},
   "source": [
    "# Minimal dark counts per point"
   ]
  },
  {
   "cell_type": "code",
   "execution_count": 9,
   "id": "2a2bfd61",
   "metadata": {},
   "outputs": [],
   "source": [
    "def Rdet(R, dc, tau):\n",
    "    return 1/(1/(R+dc)+tau)\n",
    "def Rinv(Rdet, dc, tau):\n",
    "    return 1/(1/Rdet-tau)-dc\n",
    "def DCinv(R, Rdet, tau):\n",
    "    return 1/(1/Rdet-tau)-R"
   ]
  },
  {
   "cell_type": "code",
   "execution_count": 10,
   "id": "a4a4b55c",
   "metadata": {},
   "outputs": [],
   "source": [
    "region_sel = (rate_means*1e6 > highlight_boundary[0]) & (rate_means*1e6 < highlight_boundary[1])"
   ]
  },
  {
   "cell_type": "code",
   "execution_count": 11,
   "id": "489ce9a2",
   "metadata": {},
   "outputs": [],
   "source": [
    "RdetSel = dat[region_sel]/meas_time*1e-6"
   ]
  },
  {
   "cell_type": "markdown",
   "id": "d2a02c43",
   "metadata": {},
   "source": [
    "Here we estimate the minimal dark counts in the following way. Dark counts are initially assumed to be at their lowest. Starting from the lowest detection rates in the data, each data point is evaluated:\n",
    "1. we see what dark count rate is expected for $R_\\text{A}, R_\\text{B}$\n",
    "2. knowing that, we calculate the necessary dark count rate for $R_\\text{AB}$ to obtain the corresponding $\\Delta$\n",
    "3. we insert this value to the dark count step function"
   ]
  },
  {
   "cell_type": "code",
   "execution_count": 12,
   "id": "51b7c608",
   "metadata": {},
   "outputs": [],
   "source": [
    "# the dark count step function\n",
    "dc_th = [(0, dc_fit)]\n",
    "dc_needed_means = np.empty(len(RdetSel))\n",
    "dc_needed_errs = np.empty(len(RdetSel))\n",
    "\n",
    "for i, Rdet in enumerate(RdetSel):\n",
    "    RdetHalfMean = np.mean(Rdet[:,0:2])\n",
    "    for d in dc_th[::-1]:\n",
    "        if (RdetHalfMean > d[0]):\n",
    "            dc = d[1]\n",
    "            break\n",
    "    Rhalf = Rinv(Rdet[:,:2], dc, tau_fit)\n",
    "    dc_needed = DCinv(Rhalf[:,0]+Rhalf[:,1], Rdet[:,2], tau_fit)\n",
    "    dc_needed_means[i] = np.mean(dc_needed)\n",
    "    dc_needed_errs[i] = np.std(dc_needed, ddof=1)/np.sqrt(reps)\n",
    "    \n",
    "    dc_th += [(Rdet[:,2].mean(), dc_needed_means[i])]"
   ]
  },
  {
   "cell_type": "markdown",
   "id": "5276d8fd",
   "metadata": {},
   "source": [
    "# Plotting the ad hoc fit"
   ]
  },
  {
   "cell_type": "code",
   "execution_count": 13,
   "id": "7b1d562d",
   "metadata": {},
   "outputs": [
    {
     "data": {
      "image/png": "[encoded data removed]",
      "text/plain": [
       "<Figure size 340.39x400 with 3 Axes>"
      ]
     },
     "metadata": {},
     "output_type": "display_data"
    }
   ],
   "source": [
    "def AdHocPlot():\n",
    "    \n",
    "    tit = 'SPAD-3'\n",
    "    \n",
    "    bigfontsize = 10\n",
    "    pcolor = 'tab:blue'    # plot points\n",
    "    mcolor1 = 'tab:green'  # ad hoc model curve\n",
    "    mcolor2 = 'tab:orange' # model curve\n",
    "    label_opts = dict(xycoords='axes fraction', ha='left', va='top', fontsize=bigfontsize)\n",
    "\n",
    "    fig = plt.figure(figsize=(colwidth, 4))\n",
    "    gs = matplotlib.gridspec.GridSpec(2, 2, height_ratios=[2,1])\n",
    "    \n",
    "    ### NONLINEARITY PLOT ###\n",
    "    \n",
    "    ax1 = fig.add_subplot(gs[0,:])\n",
    "    \n",
    "    R = np.logspace(-7,2,100)\n",
    "    \n",
    "    # polynomial\n",
    "    Rdet = RdetPoly(R, *ls.x)\n",
    "    RdetHalf = RdetPoly(R/2, *ls.x)\n",
    "    d = 2*RdetHalf/Rdet - 1\n",
    "\n",
    "    # normal\n",
    "    RdetN = RdetPoly(R, dc_fit, tau_fit, 1, 0, 1, 0)\n",
    "    RdetHalfN = RdetPoly(R/2, dc_fit, tau_fit, 1, 0, 1, 0)\n",
    "    dN = 2*RdetHalfN/RdetN - 1\n",
    "    \n",
    "    # plot\n",
    "    ax1.set_xscale('log')\n",
    "    ax1.set_yscale('symlog', linthresh=10**syml_th, linscale=0.001)\n",
    "\n",
    "    ax1.yaxis.set_major_formatter(FuncFormatter(symlog_ytick))\n",
    "\n",
    "    ax1.set_xlim(10, 3e6)\n",
    "\n",
    "    ax1.grid(visible=True, which='major', color='lightgray', linestyle='--', zorder=0)\n",
    "    ax1.set_axisbelow(True)\n",
    "\n",
    "    ax1.errorbar(rate_means*1e6, delta_means, yerr=delta_errs,\n",
    "                 fmt='o', markersize=3., color=pcolor, zorder=1)\n",
    "    ax1.plot(Rdet*1e6, d, c=mcolor1, ls='--', label='ad hoc hypothesis')\n",
    "    ax1.plot(RdetN*1e6, dN, c=mcolor2, label='model fit')\n",
    "    \n",
    "    ax1.set_xlabel(r'$R^{\\mathrm{det}}_{\\mathrm{AB}}$ [cps]')\n",
    "    ax1.set_ylabel(r'$\\Delta$')\n",
    "    \n",
    "    ax1.set_title(tit)\n",
    "    \n",
    "    ax1.annotate('(a)', xy=(0.04, 0.85), **label_opts)\n",
    "    \n",
    "    ax1.axvspan(*highlight_boundary, color='tab:blue', alpha=0.1)\n",
    "\n",
    "    xb = ax1.get_xlim()\n",
    "    yb = ax1.get_ylim()\n",
    "\n",
    "    axes_break = patches.Rectangle((xb[0], -1.08e-4), xb[1]-xb[0],\n",
    "                           2.16e-4, fc='w', ec='k', zorder = 3)\n",
    "    ax1.add_patch(axes_break)\n",
    "\n",
    "    ax1.legend(loc='upper center', bbox_to_anchor=(0.61,1), handlelength=1.8)\n",
    "    \n",
    "    ### PARAMETERS PLOT ###\n",
    "    \n",
    "    dc, tau, ef, p, R1, e = ls.x\n",
    "    \n",
    "    # blame it on the dark counts\n",
    "    f_dc = lambda R: (dc + p*(R/R1)**e)*1e6\n",
    "    # blame it on the efficiency\n",
    "    f_eff = lambda R: (ef + p*(R/R1)**(e-1))*1e6\n",
    "    \n",
    "    ax2 = fig.add_subplot(gs[1,0])\n",
    "    \n",
    "    R = np.logspace(-7,2,100)\n",
    "    Rdet = RdetPoly(R, *ls.x)*1e6\n",
    "    \n",
    "    dcx, dcy = (rate_means[region_sel]*1e6, dc_needed_means*1e6)\n",
    "    \n",
    "    ax2.set_xscale('log')\n",
    "    ax2.set_yscale('log')\n",
    "    ax2.plot(Rdet, f_dc(R), ls='--', c='tab:green')\n",
    "    ax2.errorbar(dcx, dcy, yerr=dc_needed_errs*1e6, fmt='o', markersize=3., c='tab:green')\n",
    "    ax2.set_ylim(1e1, 1e6)\n",
    "    ax2.set_ylabel(r'$R_0$ [cps]')\n",
    "    ax2.yaxis.set_major_locator(LogLocator(numticks=5))\n",
    "    ax2.annotate('(b)', xy=(0.08, 0.91), **label_opts)\n",
    "    \n",
    "    coords = np.array([dcx, dcy]).T\n",
    "    \n",
    "    for c1, c2 in zip(coords[::2], coords[1::2]):\n",
    "        ca = (c1+c2)/2\n",
    "        ax2.annotate('', xy=(ca[0], ca[1]*20), xytext=ca,\n",
    "                     arrowprops=dict(ec='tab:green', arrowstyle='->'))\n",
    "    \n",
    "    ax3 = fig.add_subplot(gs[1,1])\n",
    "\n",
    "    ax3.set_xscale('log')\n",
    "    ax3.plot(Rdet, f_eff(R)/f_eff(1e-2), ls='--', c='tab:green')\n",
    "    ax3.set_ylim(0.98, 1.02)\n",
    "    ax3.set_ylabel(r'$\\eta$ (rel.)')\n",
    "    ax3.annotate('(c)', xy=(0.08, 0.91), **label_opts)\n",
    "    for a in [ax2, ax3]:\n",
    "        a.grid(visible=True, color='lightgray', linestyle='--', zorder=0)\n",
    "        a.set_xlabel(r'$R^{\\mathrm{det}}_{\\mathrm{AB}}$ [cps]')\n",
    "        a.set_xlim(1e2, 1e6)\n",
    "        a.xaxis.set_major_locator(LogLocator(numticks=5))\n",
    "        a.axvspan(*highlight_boundary, color='tab:blue', alpha=0.1)\n",
    "    \n",
    "    plt.tight_layout(w_pad=0)\n",
    "    plt.show()\n",
    "    \n",
    "    return fig\n",
    "\n",
    "adHocFig = AdHocPlot()"
   ]
  },
  {
   "cell_type": "raw",
   "id": "a54a5d61",
   "metadata": {},
   "source": [
    "adHocFig.savefig('fig14.pdf')"
   ]
  }
 ],
 "metadata": {
  "kernelspec": {
   "display_name": "Python 3 (ipykernel)",
   "language": "python",
   "name": "python3"
  },
  "language_info": {
   "codemirror_mode": {
    "name": "ipython",
    "version": 3
   },
   "file_extension": ".py",
   "mimetype": "text/x-python",
   "name": "python",
   "nbconvert_exporter": "python",
   "pygments_lexer": "ipython3",
   "version": "3.10.9"
  }
 },
 "nbformat": 4,
 "nbformat_minor": 5
}
