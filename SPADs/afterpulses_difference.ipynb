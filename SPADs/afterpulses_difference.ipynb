{
 "cells": [
  {
   "cell_type": "markdown",
   "id": "9a550a7b",
   "metadata": {},
   "source": [
    "Here we take the parameters of the detector SPAD-1 (Excelitas SPCM-AQRH CD3432H) and show the effect of the temporal afterpulsing distribution. To this end, we compare two models — the first is used in the manuscript and considers afterpulses as a probabilistic event possibly occurring immediately after each dead time; the second model employs the full SPAD afterpulsing model \\[1\\]. We chose SPAD-1 because we already have the afterpulsing distribution measured \\[2\\].\n",
    "\n",
    "* \\[1\\] I. Straka, J. Grygar, J. Hloušek and M. Ježek, *Counting Statistics of Actively Quenched SPADs Under Continuous Illumination*, Journal of Lightwave Technology 38, 4765 - 4771 (2020). https://doi.org/dzmt\n",
    "* \\[2\\] I. Straka, J. Grygar, J. Hloušek and M. Ježek, https://doi.org/10.24433/CO.8487128.v1, *Counting Statistics of Actively Quenched SPADs Under Continuous Illumination*, CodeOcean capsule (2020)."
   ]
  },
  {
   "cell_type": "code",
   "execution_count": 1,
   "id": "715eb18f",
   "metadata": {},
   "outputs": [],
   "source": [
    "import numpy as np\n",
    "from scipy.signal import correlate\n",
    "import matplotlib.pyplot as plt\n",
    "%matplotlib inline"
   ]
  },
  {
   "cell_type": "markdown",
   "id": "4cecafa4",
   "metadata": {},
   "source": [
    "# Constants"
   ]
  },
  {
   "cell_type": "code",
   "execution_count": 2,
   "id": "069c5b10",
   "metadata": {},
   "outputs": [],
   "source": [
    "### TIME UNIT - 1 microsecond ###\n",
    "\n",
    "binWidth = 81e-6 # AP histogram bin width\n",
    "\n",
    "# precision setting - sufficient values depends on other parameters\n",
    "no_iter = 20 # number of iterations\n",
    "ilace_n = 3 # number of interlacing zeroes to allow finer sampling in the mean rate calculation\n",
    "\n",
    "# SPAD-1 parameters\n",
    "AP_mean = 0.002 # mean number of afterpulses\n",
    "rec_time = 0.0295 # recovery time\n",
    "alpha = 0.002   # twilight constant\n",
    "dark_counts = 88*1e-6"
   ]
  },
  {
   "cell_type": "markdown",
   "id": "8be9950d",
   "metadata": {},
   "source": [
    "# Afterpulsing distribution import"
   ]
  },
  {
   "cell_type": "code",
   "execution_count": 3,
   "id": "16956d98",
   "metadata": {},
   "outputs": [],
   "source": [
    "# discrete sampling of 'binWidth'\n",
    "AP_dist = np.fromfile('afterpulsing/apDist_3432H.bin', '<f8')\n",
    "\n",
    "# implement interlacing\n",
    "binWidth /= (1+ilace_n)\n",
    "apM = AP_dist.reshape((1,-1))\n",
    "apM = np.concatenate((apM,np.zeros((ilace_n,len(AP_dist)))))\n",
    "AP_dist = apM.T.flatten()"
   ]
  },
  {
   "cell_type": "markdown",
   "id": "beec0190",
   "metadata": {},
   "source": [
    "# Exact model definitions"
   ]
  },
  {
   "cell_type": "markdown",
   "id": "c38c3348",
   "metadata": {},
   "source": [
    "See Ref. \\[1\\] https://doi.org/dzmt, the numerical evaluation is covered in the supplemental material."
   ]
  },
  {
   "cell_type": "code",
   "execution_count": 4,
   "id": "05860924",
   "metadata": {},
   "outputs": [],
   "source": [
    "# pad n zeroes to the right\n",
    "def ZeroPad(ar, n):\n",
    "    return np.pad(ar, (0, n), 'constant', constant_values=0)\n",
    "\n",
    "# the integral transform from eq. (6) in Ref. [1]\n",
    "# takes an array representing the overhead 'f' and returns an updated 'f'\n",
    "# the overhead 'f' is discrete, so basically it is 'f(t)dt'\n",
    "def OverheadIterate(f, mu, d, APmean, a, apDist):\n",
    "    # AP intensity\n",
    "    nuArray = apDist*APmean\n",
    "    # time values\n",
    "    t = np.arange(len(f))*binWidth\n",
    "    # integrands\n",
    "    integrand_1 = ZeroPad(f[d:], d)\n",
    "    integrand_2 = (mu*binWidth + f) * np.exp(-mu*t - np.cumsum(f))\n",
    "    # correlation using FFT\n",
    "    corr = correlate(integrand_1,integrand_2, method='fft')[(len(f)-1):]\n",
    "    res = (1-a*mu)*corr + a*mu*ZeroPad(f[d:], d) + nuArray\n",
    "    return res\n",
    "\n",
    "# calculate mean rate from 'f'\n",
    "# Eqs. (28) and (29) of the supplemental material of Ref. [1]\n",
    "def MeanRateFromOverhead(f, mu, dt, a):\n",
    "    # time values\n",
    "    t = np.arange(len(f))*binWidth\n",
    "    # stationary interarrival PDF\n",
    "    p_bar = (mu*binWidth + f)*np.exp(-mu*t - np.cumsum(f))\n",
    "    # calculate an auxiliary term x\n",
    "    x = np.dot(t,p_bar) + ((1./mu + (t[-1]+binWidth)) * \\\n",
    "        np.exp(-(t[-1]+binWidth)*mu - sum(f)))\n",
    "    return (1./(x*(1.-a*mu) + dt))\n",
    "\n",
    "# mean rate of the full model\n",
    "def MeanRate(mu,dt,APmean,a,apDist):\n",
    "    # initial f\n",
    "    f = np.zeros(len(apDist), dtype=np.double)\n",
    "    # recovery time expressed in bins\n",
    "    dead_index = int(round(rec_time/binWidth))\n",
    "    for i in range(no_iter):\n",
    "        f = OverheadIterate(f, mu,dead_index,APmean,a,apDist)\n",
    "    return MeanRateFromOverhead(f, mu, dt, a)"
   ]
  },
  {
   "cell_type": "markdown",
   "id": "26bdf83f",
   "metadata": {},
   "source": [
    "# Manuscript model definitions"
   ]
  },
  {
   "cell_type": "code",
   "execution_count": 5,
   "id": "c6aad4db",
   "metadata": {},
   "outputs": [],
   "source": [
    "# mean rate of the NP model\n",
    "def MeanRate2(mu,dt,*args):\n",
    "    return 1./(1./mu + dt)\n",
    "\n",
    "def NonlinearityModel(fun,mu,dt,dc,APmean,a,apDist):\n",
    "    ra  = fun(mu/2+dc,dt,APmean,a,apDist)\n",
    "    rab = fun(mu+dc,dt,APmean,a,apDist)\n",
    "    return (rab,(2*ra/rab)-1.)\n",
    "\n",
    "def InvRate2(r,dt):\n",
    "    return 1./(1./r-dt)"
   ]
  },
  {
   "cell_type": "markdown",
   "id": "490a0430",
   "metadata": {},
   "source": [
    "# Calculations"
   ]
  },
  {
   "cell_type": "code",
   "execution_count": 6,
   "id": "d8c8c99a",
   "metadata": {},
   "outputs": [],
   "source": [
    "### TAKES LONGER TO EVALUATE ###\n",
    "\n",
    "# incident rate sampling\n",
    "rlogRates = np.linspace(-5.,2.,100)\n",
    "rvals = np.power(10.,rlogRates)\n",
    "\n",
    "# evaluate the full model first\n",
    "fullmodel = [NonlinearityModel(MeanRate,r,rec_time,dark_counts,AP_mean,alpha,AP_dist) for r in rvals]\n",
    "fullmodel = np.array(fullmodel)"
   ]
  },
  {
   "cell_type": "code",
   "execution_count": 7,
   "id": "2bbbf750",
   "metadata": {},
   "outputs": [],
   "source": [
    "# to compare with the full model, we need to match the AB detection rates\n",
    "# calculate R/exp(-AP_mean) as a modified input rate for the NP model\n",
    "input_rates = InvRate2(fullmodel[:,0], rec_time-alpha*np.exp(-AP_mean)) - dark_counts/np.exp(-AP_mean)\n",
    "\n",
    "models = [\n",
    "    [NonlinearityModel(MeanRate2,\n",
    "                       r,\n",
    "                       rec_time-alpha*np.exp(-AP_mean),\n",
    "                       dark_counts/np.exp(-AP_mean),\n",
    "                       None,None,None\n",
    "                      ) for r in input_rates],\n",
    "    fullmodel\n",
    "    ]\n",
    "models = np.array(models).transpose(0,2,1)"
   ]
  },
  {
   "cell_type": "code",
   "execution_count": 8,
   "id": "0ad5a2e9",
   "metadata": {},
   "outputs": [
    {
     "data": {
      "text/plain": [
       "True"
      ]
     },
     "execution_count": 8,
     "metadata": {},
     "output_type": "execute_result"
    }
   ],
   "source": [
    "# test if the rate values match (x-axis values in the graph)\n",
    "np.all(\n",
    "    np.isclose( models[0,0], models[1,0],\n",
    "                rtol=0, atol=1e-14)\n",
    ")"
   ]
  },
  {
   "cell_type": "markdown",
   "id": "40055afa",
   "metadata": {},
   "source": [
    "# Plot"
   ]
  },
  {
   "cell_type": "code",
   "execution_count": 9,
   "id": "dd8a3b8a",
   "metadata": {},
   "outputs": [],
   "source": [
    "par_string = f'''\\\n",
    "$R_0$ = {dark_counts*1e6:.0f} cps\n",
    "$\\\\tau_\\\\mathrm{{NP}}$ = {rec_time*1e3} ns\n",
    "$\\\\langle n_\\\\mathrm{{AP}} \\\\rangle$ = {AP_mean}\n",
    "$\\\\alpha$ = {alpha*1e3} ns\\\n",
    "'''"
   ]
  },
  {
   "cell_type": "code",
   "execution_count": 10,
   "id": "1bf22308",
   "metadata": {},
   "outputs": [
    {
     "data": {
      "image/png": "[encoded data removed]",
      "text/plain": [
       "<Figure size 360x216 with 1 Axes>"
      ]
     },
     "metadata": {
      "needs_background": "light"
     },
     "output_type": "display_data"
    }
   ],
   "source": [
    "fig = plt.figure(figsize=(5,3))\n",
    "plt.xscale('log')\n",
    "plt.plot(models[0,0]*1e6, models[1,1]/models[0,1], c='#eb8360')\n",
    "plt.xlabel(r'$R^\\mathrm{det}_\\mathrm{AB}$ [cps]')\n",
    "plt.ylabel(r'$\\Delta_\\mathrm{full}~/~\\Delta$')\n",
    "plt.annotate(r'SPAD-1', xy=[0.05,0.93], va='top',\n",
    "             xycoords='axes fraction', size=12, weight='bold')\n",
    "plt.annotate(par_string, xy=[0.05,0.82], va='top',\n",
    "             xycoords='axes fraction', size=12)\n",
    "plt.tight_layout()\n",
    "plt.show()"
   ]
  }
 ],
 "metadata": {
  "kernelspec": {
   "display_name": "Python 3 (ipykernel)",
   "language": "python",
   "name": "python3"
  },
  "language_info": {
   "codemirror_mode": {
    "name": "ipython",
    "version": 3
   },
   "file_extension": ".py",
   "mimetype": "text/x-python",
   "name": "python",
   "nbconvert_exporter": "python",
   "pygments_lexer": "ipython3",
   "version": "3.10.4"
  }
 },
 "nbformat": 4,
 "nbformat_minor": 5
}
